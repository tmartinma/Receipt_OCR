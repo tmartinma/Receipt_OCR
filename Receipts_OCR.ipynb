{
 "cells": [
  {
   "cell_type": "code",
   "execution_count": 16,
   "metadata": {},
   "outputs": [],
   "source": [
    "import easyocr\n",
    "import pandas as pd\n",
    "import os\n",
    "from datetime import datetime\n"
   ]
  },
  {
   "cell_type": "code",
   "execution_count": 17,
   "metadata": {},
   "outputs": [
    {
     "name": "stderr",
     "output_type": "stream",
     "text": [
      "Neither CUDA nor MPS are available - defaulting to CPU. Note: This module is much faster with a GPU.\n"
     ]
    }
   ],
   "source": [
    "# Set up the directory path for receipts\n",
    "receipt_directory = r'C:\\Users\\Martin\\Desktop\\Tax 2024\\Receipts'\n",
    "\n",
    "# Dataframe to store extracted data\n",
    "columns = ['Store Name', 'Transaction Date', 'Total Amount']\n",
    "receipt_data = pd.DataFrame(columns=columns)\n",
    "\n",
    "# Initialize EasyOCR reader\n",
    "reader = easyocr.Reader(['en'])"
   ]
  },
  {
   "cell_type": "code",
   "execution_count": 19,
   "metadata": {},
   "outputs": [],
   "source": [
    "\n",
    "def preprocess_image(image_path):\n",
    "    \"\"\"Preprocess the image to improve OCR results.\"\"\"\n",
    "    image = cv2.imread(image_path)\n",
    "    gray = cv2.cvtColor(image, cv2.COLOR_BGR2GRAY)\n",
    "    # Apply adaptive thresholding\n",
    "    processed_image = cv2.adaptiveThreshold(gray, 255, cv2.ADAPTIVE_THRESH_GAUSSIAN_C, cv2.THRESH_BINARY, 11, 2)\n",
    "    return processed_image\n",
    "\n",
    "def extract_text_from_image(image_path):\n",
    "    \"\"\"Extract text from an image using EasyOCR with preprocessing.\"\"\"\n",
    "    processed_image = preprocess_image(image_path)\n",
    "    results = reader.readtext(processed_image, detail=0)\n",
    "    text = \"\\n\".join(results)\n",
    "    # Debugging: Print the extracted text\n",
    "    print(f\"Extracted text from {image_path}:\\n{text}\\n{'-'*40}\\n\")\n",
    "    return text\n",
    "\n",
    "def parse_receipt_text(text):\n",
    "    \"\"\"Extract the store name, transaction date, and total amount from receipt text.\"\"\"\n",
    "    store_name = None\n",
    "    transaction_date = None\n",
    "    total_amount = None\n",
    "\n",
    "    # Split the text into lines for easier parsing\n",
    "    lines = text.split('\\n')\n",
    "    for line in lines:\n",
    "        line = line.strip()\n",
    "        print(f\"Processing line: {line}\")  # Debugging: Print each line being processed\n",
    "\n",
    "        # Extract store name (assuming it's on the first few lines)\n",
    "        if not store_name and len(line) > 3:\n",
    "            store_name = line\n",
    "            print(f\"Store name identified as: {store_name}\")\n",
    "\n",
    "        # Extract transaction date using date formats\n",
    "        try:\n",
    "            potential_date = datetime.strptime(line, '%Y/%m/%d')\n",
    "            transaction_date = potential_date.strftime('%Y-%m-%d')\n",
    "            print(f\"Transaction date identified as: {transaction_date}\")\n",
    "        except ValueError:\n",
    "            try:\n",
    "                potential_date = datetime.strptime(line, '%d-%b-%Y')\n",
    "                transaction_date = potential_date.strftime('%Y-%m-%d')\n",
    "                print(f\"Transaction date identified as: {transaction_date}\")\n",
    "            except ValueError:\n",
    "                try:\n",
    "                    potential_date = datetime.strptime(line, '%d-%m-%Y')\n",
    "                    transaction_date = potential_date.strftime('%Y-%m-%d')\n",
    "                    print(f\"Transaction date identified as: {transaction_date}\")\n",
    "                except ValueError:\n",
    "                    pass\n",
    "\n",
    "        # Extract total amount (assuming it starts with 'Total' or similar)\n",
    "        if 'total' in line.lower():\n",
    "            total_amount = ''.join([char for char in line if char.isdigit() or char == '.' or char == ','])\n",
    "            if total_amount:\n",
    "                total_amount = total_amount.replace(',', '')\n",
    "                try:\n",
    "                    total_amount = float(total_amount)\n",
    "                    print(f\"Total amount identified as: {total_amount}\")\n",
    "                except ValueError:\n",
    "                    total_amount = None\n",
    "\n",
    "    return store_name, transaction_date, total_amount\n",
    "\n",
    "def process_receipts(directory):\n",
    "    \"\"\"Process all receipt images in a directory and store extracted data in a DataFrame.\"\"\"\n",
    "    for filename in os.listdir(directory):\n",
    "        if filename.endswith('.jpg') or filename.endswith('.jpeg') or filename.endswith('.png'):\n",
    "            file_path = os.path.join(directory, filename)\n",
    "            text = extract_text_from_image(file_path)\n",
    "            store_name, transaction_date, total_amount = parse_receipt_text(text)\n",
    "            receipt_data.loc[len(receipt_data)] = [store_name, transaction_date, total_amount]\n"
   ]
  },
  {
   "cell_type": "code",
   "execution_count": 20,
   "metadata": {},
   "outputs": [
    {
     "name": "stdout",
     "output_type": "stream",
     "text": [
      "Empty DataFrame\n",
      "Columns: [Store Name, Transaction Date, Total Amount]\n",
      "Index: []\n"
     ]
    }
   ],
   "source": [
    "# Process the receipts\n",
    "process_receipts(receipt_directory)\n",
    "\n",
    "# Save the extracted data to a CSV file\n",
    "receipt_data.to_csv('extracted_receipt_data.csv', index=False)\n",
    "\n",
    "# Display the dataframe\n",
    "print(receipt_data)"
   ]
  }
 ],
 "metadata": {
  "kernelspec": {
   "display_name": "tax2",
   "language": "python",
   "name": "python3"
  },
  "language_info": {
   "codemirror_mode": {
    "name": "ipython",
    "version": 3
   },
   "file_extension": ".py",
   "mimetype": "text/x-python",
   "name": "python",
   "nbconvert_exporter": "python",
   "pygments_lexer": "ipython3",
   "version": "3.9.20"
  }
 },
 "nbformat": 4,
 "nbformat_minor": 2
}
